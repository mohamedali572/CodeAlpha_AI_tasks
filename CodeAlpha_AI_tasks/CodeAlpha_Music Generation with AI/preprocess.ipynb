{
 "cells": [
  {
   "cell_type": "code",
   "execution_count": null,
   "id": "49efbcf7-ea9c-4d2b-904e-a830d6e37eaa",
   "metadata": {},
   "outputs": [],
   "source": [
    "import glob\n",
    "import pickle\n",
    "import numpy as np\n",
    "from music21 import converter, instrument, note, chord\n",
    "\n",
    "def load_midi_files():\n",
    "    notes = []\n",
    "    for file in glob.glob(\"data/**/*.mid\", recursive=True):\n",
    "        midi = converter.parse(file)\n",
    "        parts = instrument.partitionByInstrument(midi)\n",
    "        elements = parts.parts[0].recurse() if parts else midi.flat.notes\n",
    "\n",
    "        for element in elements:\n",
    "            if isinstance(element, note.Note):\n",
    "                notes.append(str(element.pitch))\n",
    "            elif isinstance(element, chord.Chord):\n",
    "                notes.append('.'.join(str(n) for n in element.normalOrder))\n",
    "\n",
    "    with open(\"data/notes.pkl\", \"wb\") as f:\n",
    "        pickle.dump(notes, f)\n",
    "\n",
    "    return notes\n",
    "\n",
    "def prepare_sequences(notes, seq_length=100):\n",
    "    pitchnames = sorted(set(notes))\n",
    "    note_to_int = {note: num for num, note in enumerate(pitchnames)}\n",
    "\n",
    "    network_input = []\n",
    "    network_output = []\n",
    "\n",
    "    for i in range(len(notes) - seq_length):\n",
    "        seq_in = notes[i:i + seq_length]\n",
    "        seq_out = notes[i + seq_length]\n",
    "        network_input.append([note_to_int[n] for n in seq_in])\n",
    "        network_output.append(note_to_int[seq_out])\n",
    "\n",
    "    n_patterns = len(network_input)\n",
    "    input_tensor = np.reshape(network_input, (n_patterns, seq_length, 1)) / float(len(pitchnames))\n",
    "    output_tensor = np.array(network_output)\n",
    "\n",
    "    return input_tensor, output_tensor, note_to_int, pitchnames\n",
    "\n",
    "if __name__ == \"__main__\":\n",
    "    notes = load_midi_files()\n",
    "    print(f\"Collected {len(notes)} notes\")\n"
   ]
  }
 ],
 "metadata": {
  "kernelspec": {
   "display_name": "Python 3 (ipykernel)",
   "language": "python",
   "name": "python3"
  },
  "language_info": {
   "codemirror_mode": {
    "name": "ipython",
    "version": 3
   },
   "file_extension": ".py",
   "mimetype": "text/x-python",
   "name": "python",
   "nbconvert_exporter": "python",
   "pygments_lexer": "ipython3",
   "version": "3.11.5"
  }
 },
 "nbformat": 4,
 "nbformat_minor": 5
}
